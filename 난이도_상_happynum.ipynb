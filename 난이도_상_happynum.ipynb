{
 "cells": [
  {
   "cell_type": "markdown",
   "id": "248800ff",
   "metadata": {},
   "source": [
    "문제:\n",
    "\"Happy Numbers\" 문제를 풀어보세요.\n",
    "양의 정수 n이 주어졌을 때, 아래 과정을 반복해 결국 1이 되면 Happy Number, 아니라면 Happy Number가 아닙니다.\n",
    "\n",
    "과정:\n",
    "\n",
    "n의 각 자리 숫자를 제곱해 더한 값을 새 n으로 만든다.\n",
    "\n",
    "이 과정을 반복하다가 1이 나오면 happy number."
   ]
  },
  {
   "cell_type": "code",
   "execution_count": 3,
   "id": "b639cefd",
   "metadata": {},
   "outputs": [
    {
     "name": "stdout",
     "output_type": "stream",
     "text": [
      "양의 정수를 입력하세요:4\n",
      "16\n",
      "37\n",
      "58\n",
      "89\n",
      "145\n",
      "42\n",
      "20\n",
      "4\n",
      "16\n",
      "not\n"
     ]
    }
   ],
   "source": [
    "n = input(\"양의 정수를 입력하세요:\")\n",
    "square = 0\n",
    "save = []\n",
    "while n != 1 and n not in save:\n",
    "    save.append(square)\n",
    "    square = 0\n",
    "    for i in str(n):\n",
    "        square += int(i) ** 2\n",
    "    n = square  # 다음 반복을 위한 새로운 n\n",
    "    print(n)\n",
    "if n==1:\n",
    "    print(\"happy\")\n",
    "else:\n",
    "    print(\"not\")"
   ]
  },
  {
   "cell_type": "markdown",
   "id": "7b3424e0",
   "metadata": {},
   "source": [
    "'''\n",
    "1. 양의 정수가 들어오면 숫자 하나하나 다 분해한다\n",
    "ex) 2956= 2,9,5,6\n",
    "2. 분해한 수는 제곱하여 더한다\n",
    "ex) 2*2 +9*9 + 5*5 + 6*6\n",
    "    4+81+25+36= 146\n",
    "3. 146은 1이 아니므로 다시 분해해서 제곱한다\n",
    "'''"
   ]
  },
  {
   "cell_type": "code",
   "execution_count": 6,
   "id": "a97fe178",
   "metadata": {},
   "outputs": [
    {
     "name": "stdout",
     "output_type": "stream",
     "text": [
      "0\n",
      "15\n",
      "30\n",
      "45\n",
      "60\n",
      "75\n",
      "90\n"
     ]
    }
   ],
   "source": [
    "for i in range(100):\n",
    "    if i%3==0 and i%5 ==0:\n",
    "        print(i)"
   ]
  },
  {
   "cell_type": "code",
   "execution_count": 2,
   "id": "2acb5ca8",
   "metadata": {
    "scrolled": false
   },
   "outputs": [
    {
     "name": "stdout",
     "output_type": "stream",
     "text": [
      "     *\n",
      "    ***\n",
      "   *****\n",
      "  *******\n",
      " *********\n"
     ]
    }
   ],
   "source": [
    "star = 5\n",
    "for i in range(0, star):\n",
    "    print(\" \"*(star-i)+\"*\" * (2*i+1))\n",
    "    \n"
   ]
  },
  {
   "cell_type": "code",
   "execution_count": null,
   "id": "87b9b7ea",
   "metadata": {},
   "outputs": [],
   "source": [
    "# 메뉴 가격 정의\n",
    "orange = 100\n",
    "coffee = 200\n",
    "coke = 300\n",
    "\n",
    "print(\"=== 자판기 프로그램 ===\")\n",
    "print(\"1. 오렌지 (100원), 2. 커피 (200원), 3. 콜라 (300원)\")\n",
    "\n",
    "while True:\n",
    "    order, money = input(\"주문번호와 금액\").split()\n",
    "    order = int(order)\n",
    "    money = int(money)\n",
    "\n",
    "    # 종료 조건\n",
    "    if order == 0:\n",
    "        print(\"종료\")\n",
    "        break\n",
    "\n",
    "    # 조건문으로 메뉴 선택 처리\n",
    "    if order == 1:\n",
    "        if money >= orange:\n",
    "            change = money - orange\n",
    "            print(f\"오렌지 잔액:{change}원\")\n",
    "        else:\n",
    "            print(\"잔액부족\")\n",
    "    elif order == 2:\n",
    "        if money >= coffee:\n",
    "            change = money - coffee\n",
    "            print(f\"커피 잔액: {change}원\")\n",
    "        else:\n",
    "            print(\"잔액부족\")\n",
    "    elif order == 3:\n",
    "        if money >= coke:\n",
    "            change = money - coke\n",
    "            print(f\"콜라 잔액:{change}원\")\n",
    "        else:\n",
    "            print(\"잔액부족\")\n",
    "    else:\n",
    "        print(\"잘못된 메뉴 번호\")\n"
   ]
  }
 ],
 "metadata": {
  "kernelspec": {
   "display_name": "Python 3 (ipykernel)",
   "language": "python",
   "name": "python3"
  },
  "language_info": {
   "codemirror_mode": {
    "name": "ipython",
    "version": 3
   },
   "file_extension": ".py",
   "mimetype": "text/x-python",
   "name": "python",
   "nbconvert_exporter": "python",
   "pygments_lexer": "ipython3",
   "version": "3.10.9"
  }
 },
 "nbformat": 4,
 "nbformat_minor": 5
}
