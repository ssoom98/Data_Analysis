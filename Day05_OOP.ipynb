{
 "cells": [
  {
   "cell_type": "code",
   "execution_count": 11,
   "id": "c2bddcb1",
   "metadata": {},
   "outputs": [
    {
     "data": {
      "text/html": [
       "\n",
       "<style>\n",
       "div.container{width:99% !important;}\n",
       "div.cell.code_cell.rendered{width:90%;}\n",
       "div.cell.code_cell.unrendered{width:90%;}\n",
       "div.CodeMirror {font-family:Consolas; font-size:13pt;}\n",
       "div.output {font-size:13pt; font-weight:bold;}\n",
       "div.input {font-family:Consolas; font-size:13pt;}\n",
       "div.prompt {min-width:70px;}\n",
       "div#toc-wrapper{padding-top:120px;}\n",
       "span.toc-item-num{display:none;}\n",
       "div.text_cell_render ul li{font-size:18pt;padding:5px;}\n",
       "div.CodeMirror-lines > div {padding-left:10px;}\n",
       "div.rendered_html {margin-left: 0;}\n",
       "</style>\n"
      ],
      "text/plain": [
       "<IPython.core.display.HTML object>"
      ]
     },
     "metadata": {},
     "output_type": "display_data"
    }
   ],
   "source": [
    "from IPython.display import display, HTML\n",
    "display(HTML(\"\"\"\n",
    "<style>\n",
    "div.container{width:99% !important;}\n",
    "div.cell.code_cell.rendered{width:90%;}\n",
    "div.cell.code_cell.unrendered{width:90%;}\n",
    "div.CodeMirror {font-family:Consolas; font-size:13pt;}\n",
    "div.output {font-size:13pt; font-weight:bold;}\n",
    "div.input {font-family:Consolas; font-size:13pt;}\n",
    "div.prompt {min-width:70px;}\n",
    "div#toc-wrapper{padding-top:120px;}\n",
    "span.toc-item-num{display:none;}\n",
    "div.text_cell_render ul li{font-size:18pt;padding:5px;}\n",
    "div.CodeMirror-lines > div {padding-left:10px;}\n",
    "div.rendered_html {margin-left: 0;}\n",
    "</style>\n",
    "\"\"\"))"
   ]
  },
  {
   "cell_type": "code",
   "execution_count": 6,
   "id": "0f645cc3",
   "metadata": {},
   "outputs": [
    {
     "name": "stdout",
     "output_type": "stream",
     "text": [
      "30\n",
      "-10\n"
     ]
    }
   ],
   "source": [
    "result1 = 0\n",
    "result2 = 0\n",
    "\n",
    "def add (n1,n2):\n",
    "    return n1+n2\n",
    "    \n",
    "def sub (n1,n2):\n",
    "    return n1 - n2\n",
    "\n",
    "# main\n",
    "\n",
    "x = 10\n",
    "y = 20\n",
    "print(add(x,y))\n",
    "print(sub(x,y))\n"
   ]
  },
  {
   "attachments": {
    "image.png": {
     "image/png": "[encoded data removed]"
    }
   },
   "cell_type": "markdown",
   "id": "9e5fc55a",
   "metadata": {},
   "source": [
    "# 계산기 도식화\n",
    "\n",
    "![image.png](attachment:image.png)\n",
    "\n",
    "| 메모리 영역       | 설명                                               |\n",
    "| ------------ | ------------------------------------------------ |\n",
    "| **Code 영역**  | 클래스 및 함수 정의 코드가 저장됨 (예: `Calculator` 클래스 정의 등)   |\n",
    "| **Stack 영역** | 지역 변수와 참조 변수(주소값)가 저장됨 (예: `cobj`, `result` 등)   |\n",
    "| **Heap 영역**  | `Calculator()`와 같은 객체 생성 시 실제 인스턴스(데이터)가 저장되는 공간 |\n",
    "\n",
    "| 개념           | 메모리 위치         | 예시                     |\n",
    "| ------------ | -------------- | ---------------------- |\n",
    "| 클래스 정의       | Code 영역        | `class Calculator:`    |\n",
    "| 객체 인스턴스      | Heap 영역        | `Calculator()` 호출 결과   |\n",
    "| 참조 변수        | Stack 영역       | `cobj`                 |\n",
    "| 속성값 (x, y 등) | Heap 내 인스턴스 내부 | `self.x`, `self.y`     |\n",
    "| 주소값          | Stack에 저장      | `0x1000` 같은 Heap 주소 참조 |\n",
    "\n",
    "| 주소 (가정)  | 내용                                                  |\n",
    "| -------- | --------------------------------------------------- |\n",
    "| `0x1000` | `cobj1`이 참조하는 `Calculator()` 인스턴스 (x=10, y=20)      |\n",
    "| `0x2000` | `cobj2`가 참조하는 또 다른 `Calculator()` 인스턴스 (x=10, y=20) |\n",
    "\n",
    "| 항목               | 설명                                |\n",
    "| ---------------- | --------------------------------- |\n",
    "| `Calculator()`   | 호출 시마다 **Heap에 새로운 인스턴스 생성**      |\n",
    "| `cobj1`, `cobj2` | 서로 **다른 인스턴스를 참조하는 Stack 변수**     |\n",
    "| 같은 클래스 사용        | 클래스가 같아도 **각 객체는 독립된 메모리 공간**을 가짐 |\n"
   ]
  },
  {
   "cell_type": "code",
   "execution_count": 28,
   "id": "5ed6ac27",
   "metadata": {},
   "outputs": [
    {
     "name": "stdout",
     "output_type": "stream",
     "text": [
      "2494026222928\n",
      "2494026220048\n"
     ]
    }
   ],
   "source": [
    "# 클래스 --> new --> 객체생성\n",
    "# 클래스 = 객체의 스타일 또는 정의문 = 구성요소(데이터 +메소드)\n",
    "\n",
    "class Calculator:\n",
    "    \n",
    "    def __init__(self): # =>초기화함수를 부름\n",
    "        # x = 100 # 지역변수\n",
    "        self.x = 10 # 속성변수 # 하지만 x,y값에 쓰레기값이 있기 때문에 초기화를 해줘야한다 __init__()\n",
    "        self.y = 20 # 속성\n",
    "        \n",
    "    def add(self): # (self, num1, num2) # 매개변수 지정시 # add라는 기능\n",
    "        result = self.x + self.y # obj 소속이라 메모리에 남음\n",
    "        return result # 끝나면 사라짐\n",
    "    \n",
    "cobj = Calculator()\n",
    "\"\"\"\n",
    "# new라는 명령은 '쓰고 버린다'라는 암묵적인 표현 => 생성자 함수를 호출함\n",
    "# cobj는 stack에 담겨 공간을 확보하며, 주소가 없으면 null 상태가 됨\n",
    "# 객체는 사전에 크기가 정해지지 않기 때문에 stack에 직접 만들 수 없고,\n",
    "# heap 영역에 메모리를 할당하여 객체를 생성함\n",
    "# 생성된 객체는 초기에는 쓰레기 값을 가지고 있음\n",
    "# 반면, 주소값은 고정된 크기를 가지므로 stack에 저장할 수 있음\n",
    "# 함수는 정의문이 코드 영역에 올라가면서 주소값이 확보됨\n",
    "# 하지만 객체의 속성 x, y는 쓰레기값이므로 초기화를 해줘야 함 → __init__() 사용\n",
    "# self를 사용하면, obj의 호출에 따라 각기 다른 메모리 주소(즉, 인스턴스)를 참조할 수 있음\n",
    "\n",
    "\"\"\"\n",
    "cobj.x # 정보 은닉 위배\n",
    "cobj2 = Calculator()\n",
    "cobj2.x = 100\n",
    "print(id(cobj2.x))\n",
    "print(id(cobj.x))"
   ]
  },
  {
   "cell_type": "code",
   "execution_count": 31,
   "id": "1239efe4",
   "metadata": {},
   "outputs": [
    {
     "name": "stdout",
     "output_type": "stream",
     "text": [
      "<class 'int'>\n"
     ]
    }
   ],
   "source": [
    "x = 10\n",
    "print(type(x))"
   ]
  },
  {
   "cell_type": "code",
   "execution_count": 49,
   "id": "2652e286",
   "metadata": {},
   "outputs": [
    {
     "name": "stdout",
     "output_type": "stream",
     "text": [
      "<class 'int'>\n",
      "<class 'float'>\n",
      "<class 'str'>\n",
      "<class 'bool'>\n",
      "<class 'list'>\n"
     ]
    }
   ],
   "source": [
    "a = 10\n",
    "b = 34.6\n",
    "c = \"안녕하세요\"\n",
    "d = True\n",
    "e = [1,2,3]\n",
    "\n",
    "\n",
    "print(type(a))\n",
    "print(type(b))\n",
    "print(type(c))\n",
    "print(type(d))\n",
    "print(type(e))"
   ]
  },
  {
   "cell_type": "code",
   "execution_count": 39,
   "id": "22b96106",
   "metadata": {},
   "outputs": [
    {
     "name": "stdout",
     "output_type": "stream",
     "text": [
      "2494128052528\n"
     ]
    }
   ],
   "source": [
    "c.count('e')\n",
    "print(id(c))"
   ]
  },
  {
   "cell_type": "code",
   "execution_count": 54,
   "id": "78a67fe8",
   "metadata": {},
   "outputs": [
    {
     "data": {
      "text/plain": [
       "'안녕하세요'"
      ]
     },
     "execution_count": 54,
     "metadata": {},
     "output_type": "execute_result"
    }
   ],
   "source": [
    "ecoded = c.encode() \n",
    "decode = ecoded.decode('utf-8')# 문자셋이 안맞으면 error\n",
    "#c.encode().decode('utf-8')\n",
    "decode"
   ]
  },
  {
   "cell_type": "code",
   "execution_count": 60,
   "id": "6afac47b",
   "metadata": {},
   "outputs": [
    {
     "name": "stdout",
     "output_type": "stream",
     "text": [
      "3740.0\n"
     ]
    }
   ],
   "source": [
    "x= \"3720\"\n",
    "if x.isdigit():\n",
    "    result = float(x)+20\n",
    "    print(result)\n",
    "else:\n",
    "    print(\"숫자가 아님\")"
   ]
  },
  {
   "cell_type": "markdown",
   "id": "ab3c8666",
   "metadata": {},
   "source": [
    "● 기능 요구\n",
    "\n",
    "Contact 클래스 생성: name, phone, email 속성\n",
    "\n",
    "파일 읽어 리스트에 객체 저장\n",
    "\n",
    "사용자 검색 기능 구현 (search_by_name())"
   ]
  },
  {
   "cell_type": "code",
   "execution_count": 1,
   "id": "11695bab",
   "metadata": {},
   "outputs": [
    {
     "name": "stdout",
     "output_type": "stream",
     "text": [
      "['Kim,01012345678,seoul@example.com', 'Lee,01098765432,lee@example.com']\n",
      "이름: Kim, 전화번호: 01012345678, 이메일: seoul@example.com\n",
      "이름: Lee, 전화번호: 01098765432, 이메일: lee@example.com\n",
      "검색할 이름 키워드: lee\n",
      "Lee,01098765432,lee@example.com\n"
     ]
    },
    {
     "data": {
      "text/plain": [
       "['Lee,01098765432,lee@example.com']"
      ]
     },
     "execution_count": 1,
     "metadata": {},
     "output_type": "execute_result"
    }
   ],
   "source": [
    "# 풀이 1\n",
    "def read_contacts(filename):\n",
    "    contactsList=[]\n",
    "    with open(filename,\"r\") as f:\n",
    "        text = f.read().split('\\n')\n",
    "        for i in text:\n",
    "            name, phone, email = i.split(',')\n",
    "            contactsList.append(f\"{name},{phone},{email}\")\n",
    "        f.close()\n",
    "        '''\n",
    "        while ((ch = f.read())!=-1):\n",
    "            line = []\n",
    "            line.append(ch)\n",
    "            if(ch == \"\\n\"):\n",
    "        - 일반 프로그래밍에서는 이렇게 한다\n",
    "                \n",
    "        '''\n",
    "    return contactsList\n",
    "\n",
    "\n",
    "def search_contact(contacts, keyword):\n",
    "    results = []\n",
    "    for i in contacts:\n",
    "        if keyword.lower() in i.lower():\n",
    "            results.append(i)\n",
    "            print(i)\n",
    "            \n",
    "    return results\n",
    "\n",
    "def print_contacts(contacts):     #출력 형식\n",
    "    for c in contacts:\n",
    "        name, phone, email = c.split(',')\n",
    "        print(f\"이름: {name}, 전화번호: {phone}, 이메일: {email}\")\n",
    "        \n",
    "## -- main --\n",
    "con = read_contacts(\"contacts.txt\")\n",
    "print(con)\n",
    "print_contacts(con)\n",
    "keyword = input(\"검색할 이름 키워드: \")\n",
    "search_contact(con,keyword)"
   ]
  },
  {
   "cell_type": "code",
   "execution_count": 19,
   "id": "c230b0f8",
   "metadata": {},
   "outputs": [
    {
     "name": "stdout",
     "output_type": "stream",
     "text": [
      "이름: Kim\t전화번호: 01012345678\t이메일: seoul@example.com\n",
      "이름: Lee\t전화번호: 01098765432\t이메일: lee@example.com\n"
     ]
    },
    {
     "data": {
      "text/plain": [
       "[['Kim', '01012345678', 'seoul@example.com']]"
      ]
     },
     "execution_count": 19,
     "metadata": {},
     "output_type": "execute_result"
    }
   ],
   "source": [
    "#1단계 : 모듈화\n",
    "#2단계 : 모듈화된 함수에 대하여 입력과 출력을 정의한다.\n",
    "def read_contacts(filename):  #입력과 출력\n",
    "    contactList=[]  #빈 리스트 객체를 생성\n",
    "    #contactList=[['kim','00-00000'.'@.com'],['Lee','11-00000'.'sd@.com']]\n",
    "    with open(filename,'r', encoding='utf-8') as f:\n",
    "\n",
    "        for line in f:\n",
    "            split_line =line.strip().split(',')  #['kim','00-00000'.'@.com']\n",
    "            contactList.append(split_line)  ## 한사람의 리스트를 전체리스트에 추가\n",
    "    #print(\"Out of file\") \n",
    "    return contactList\n",
    "\n",
    "def print_contacts(contacts):\n",
    "    for one in contacts:   #one=['kim','00-00000'.'@.com']\n",
    "        print(\"이름:\",one[0], end='\\t')\n",
    "        print(\"전화번호:\",one[1], end='\\t')\n",
    "        print(\"이메일:\",one[2])\n",
    "\n",
    "def search_contact(contacts, keyword):\n",
    "    # 문자열 비교 - \n",
    "    results=[]\n",
    "    \n",
    "    for conOne in contacts:\n",
    "        if keyword.lower() in conOne[0].lower():\n",
    "            results.append(conOne)\n",
    "    return results\n",
    "\n",
    "    \n",
    "##---main\n",
    "clist=read_contacts('contacts.txt')   #clist=[['kim','00-00000'.'@.com'],['Lee','11-00000'.'sd@.com']]\n",
    "print_contacts(clist)\n",
    "slist = search_contact(clist,'kim')\n",
    "slist"
   ]
  },
  {
   "cell_type": "code",
   "execution_count": null,
   "id": "1da11a40",
   "metadata": {},
   "outputs": [],
   "source": [
    "a = []\n",
    "b = [10,29.5, 'Hello', True]\n",
    "c = [10,20, [1,2,3,4],['a','b']]"
   ]
  },
  {
   "cell_type": "code",
   "execution_count": null,
   "id": "e73a2fdf",
   "metadata": {},
   "outputs": [],
   "source": [
    "# 풀이 2\n",
    "# Contact 클래스 정의\n",
    "class Contact:\n",
    "    def __init__(self, name, phone, email):\n",
    "        self.name = name\n",
    "        self.phone = phone\n",
    "        self.email = email\n",
    "\n",
    "    ### 필요 기능 추가\n",
    "\n",
    "# 주소록 관리 클래스\n",
    "class ContactBook:\n",
    "    def __init__(self):\n",
    "        self.contacts = []\n",
    "\n",
    "    ### 필요 기능 추가"
   ]
  },
  {
   "cell_type": "code",
   "execution_count": null,
   "id": "c1ff7267",
   "metadata": {},
   "outputs": [],
   "source": [
    "# 실행 예시\n",
    "book = ContactBook()\n",
    "book.load_from_file('contacts.txt')\n",
    "keyword = input(\"검색할 이름 키워드: \")\n",
    "results = book.search(keyword)\n",
    "book.display_contacts(results)"
   ]
  },
  {
   "cell_type": "code",
   "execution_count": null,
   "id": "7b055f08",
   "metadata": {},
   "outputs": [],
   "source": []
  }
 ],
 "metadata": {
  "kernelspec": {
   "display_name": "Python 3 (ipykernel)",
   "language": "python",
   "name": "python3"
  },
  "language_info": {
   "codemirror_mode": {
    "name": "ipython",
    "version": 3
   },
   "file_extension": ".py",
   "mimetype": "text/x-python",
   "name": "python",
   "nbconvert_exporter": "python",
   "pygments_lexer": "ipython3",
   "version": "3.10.9"
  }
 },
 "nbformat": 4,
 "nbformat_minor": 5
}
