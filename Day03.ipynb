{
 "cells": [
  {
   "cell_type": "code",
   "execution_count": 1,
   "id": "a939976e",
   "metadata": {},
   "outputs": [
    {
     "data": {
      "text/html": [
       "\n",
       "<style>\n",
       "div.container{width:99% !important;}\n",
       "div.cell.code_cell.rendered{width:90%;}\n",
       "div.cell.code_cell.unrendered{width:90%;}\n",
       "div.CodeMirror {font-family:Consolas; font-size:13pt;}\n",
       "div.output {font-size:13pt; font-weight:bold;}\n",
       "div.input {font-family:Consolas; font-size:13pt;}\n",
       "div.prompt {min-width:70px;}\n",
       "div#toc-wrapper{padding-top:120px;}\n",
       "span.toc-item-num{display:none;}\n",
       "div.text_cell_render ul li{font-size:18pt;padding:5px;}\n",
       "div.CodeMirror-lines > div {padding-left:10px;}\n",
       "</style>\n"
      ],
      "text/plain": [
       "<IPython.core.display.HTML object>"
      ]
     },
     "metadata": {},
     "output_type": "display_data"
    }
   ],
   "source": [
    "from IPython.display import display, HTML\n",
    "display(HTML(\"\"\"\n",
    "<style>\n",
    "div.container{width:99% !important;}\n",
    "div.cell.code_cell.rendered{width:90%;}\n",
    "div.cell.code_cell.unrendered{width:90%;}\n",
    "div.CodeMirror {font-family:Consolas; font-size:13pt;}\n",
    "div.output {font-size:13pt; font-weight:bold;}\n",
    "div.input {font-family:Consolas; font-size:13pt;}\n",
    "div.prompt {min-width:70px;}\n",
    "div#toc-wrapper{padding-top:120px;}\n",
    "span.toc-item-num{display:none;}\n",
    "div.text_cell_render ul li{font-size:18pt;padding:5px;}\n",
    "div.CodeMirror-lines > div {padding-left:10px;}\n",
    "</style>\n",
    "\"\"\"))"
   ]
  },
  {
   "cell_type": "code",
   "execution_count": 2,
   "id": "3b6390f0",
   "metadata": {},
   "outputs": [
    {
     "name": "stdout",
     "output_type": "stream",
     "text": [
      "걸어서 가라\n",
      "종료...\n"
     ]
    }
   ],
   "source": [
    "## 데이터 준비\n",
    "## 처리\n",
    "## 출력\n",
    "\n",
    "money = False\n",
    "\n",
    "if money == True:\n",
    "    print('택시 타고 가라')\n",
    "else :\n",
    "    print('걸어서 가라')\n",
    "    \n",
    "print('종료...')"
   ]
  },
  {
   "cell_type": "code",
   "execution_count": 3,
   "id": "ab15543a",
   "metadata": {},
   "outputs": [
    {
     "data": {
      "text/plain": [
       "'걸어가라'"
      ]
     },
     "execution_count": 3,
     "metadata": {},
     "output_type": "execute_result"
    }
   ],
   "source": [
    "# 삼항 연산자\n",
    "money = False\n",
    "\n",
    "\"택시타고 가라~\" if money else \"걸어가라\""
   ]
  },
  {
   "cell_type": "code",
   "execution_count": 4,
   "id": "315d985f",
   "metadata": {},
   "outputs": [
    {
     "name": "stdout",
     "output_type": "stream",
     "text": [
      "걸어서가자\n"
     ]
    }
   ],
   "source": [
    "# 만약 3000원 이상의 돈을 가지고 있으면 택시를 타고, 그렇지 않으면 걸어가라\n",
    "money = 0\n",
    "if money >=3000:\n",
    "    print(\"택시타고 집가자\")\n",
    "else:\n",
    "    print(\"걸어서가자\")"
   ]
  },
  {
   "cell_type": "code",
   "execution_count": 5,
   "id": "07b95595",
   "metadata": {},
   "outputs": [
    {
     "name": "stdout",
     "output_type": "stream",
     "text": [
      "택시타고 집가자\n",
      "돈부족\n"
     ]
    }
   ],
   "source": [
    "# 돈이 3000원 이상 있거나 카드가 있다면 택시를 타고 가고, 그렇지 않으면 걸어가라.\n",
    "money = 2000\n",
    "card = True\n",
    "if (money >= 3000) or (card == True):\n",
    "    print(\"택시타고 집가자\")\n",
    "    if money<=3000:\n",
    "        print(\"돈부족\")\n",
    "else:\n",
    "    print(\"걸어서가자\")"
   ]
  },
  {
   "cell_type": "code",
   "execution_count": 6,
   "id": "3e476cf4",
   "metadata": {},
   "outputs": [
    {
     "name": "stdout",
     "output_type": "stream",
     "text": [
      "택시타고 가자\n"
     ]
    }
   ],
   "source": [
    "pocket = ['paper', 'card','cellphone']\n",
    "\n",
    "if ('money' in pocket) or ('card' in pocket):\n",
    "    print(\"택시타고 가자\")\n",
    "else:\n",
    "    print('걸어가라')\n",
    "\n",
    "    "
   ]
  },
  {
   "cell_type": "code",
   "execution_count": 7,
   "id": "26fb7d7d",
   "metadata": {},
   "outputs": [
    {
     "name": "stdout",
     "output_type": "stream",
     "text": [
      "one\n",
      "two\n",
      "three\n"
     ]
    }
   ],
   "source": [
    "test_list = ['one','two','three']\n",
    "for i in test_list:\n",
    "    print(i)"
   ]
  },
  {
   "cell_type": "code",
   "execution_count": 8,
   "id": "b54a69d6",
   "metadata": {},
   "outputs": [
    {
     "name": "stdout",
     "output_type": "stream",
     "text": [
      "0\n",
      "1\n",
      "2\n",
      "3\n",
      "4\n",
      "5\n",
      "6\n",
      "7\n",
      "8\n",
      "9\n"
     ]
    }
   ],
   "source": [
    "for idx in range(10):\n",
    "    print(idx)"
   ]
  },
  {
   "cell_type": "code",
   "execution_count": 10,
   "id": "3ff30754",
   "metadata": {},
   "outputs": [
    {
     "name": "stdout",
     "output_type": "stream",
     "text": [
      "나무를 0번 찍었습니다.\n",
      "나무를 0번 찍었습니다.\n",
      "나무를 1번 찍었습니다.\n",
      "나무를 1번 찍었습니다.\n",
      "나무를 2번 찍었습니다.\n",
      "나무를 2번 찍었습니다.\n",
      "나무를 3번 찍었습니다.\n",
      "나무를 3번 찍었습니다.\n",
      "나무를 4번 찍었습니다.\n",
      "나무를 4번 찍었습니다.\n"
     ]
    }
   ],
   "source": [
    "idx = 0\n",
    "while idx < 5:\n",
    "    ## print(\"나무를\" + str(idx) + \" 번 찍었습니다.\")\n",
    "    print(\"나무를 %d번 찍었습니다.\" %idx)\n",
    "    print(f\"나무를 {idx}번 찍었습니다.\")\n",
    "    idx += 1"
   ]
  },
  {
   "cell_type": "code",
   "execution_count": 13,
   "id": "307a7354",
   "metadata": {},
   "outputs": [],
   "source": [
    "# 예측이 가능하면 for문 불가능하면 (트래픽, 네트워크같은 제약사항) while\n",
    "while True:\n",
    "    \n",
    "    if(idx >= 5):\n",
    "        break;"
   ]
  },
  {
   "cell_type": "code",
   "execution_count": 15,
   "id": "c59c4bb9",
   "metadata": {},
   "outputs": [],
   "source": [
    "x = 10\n",
    "y = 20\n",
    "num_max = 0\n",
    "\n",
    "if x> y :\n",
    "    num_max = x\n",
    "else:\n",
    "    num_max = y\n",
    "    \n"
   ]
  },
  {
   "cell_type": "code",
   "execution_count": 20,
   "id": "f5166856",
   "metadata": {},
   "outputs": [
    {
     "name": "stdout",
     "output_type": "stream",
     "text": [
      "20\n",
      "40\n"
     ]
    }
   ],
   "source": [
    "#----- 함수로 리팩토링(재구성) --\n",
    "def getMax(a,b):\n",
    "    num_max = a\n",
    "    if num_max < b:\n",
    "        num_max = b\n",
    "\n",
    "    return num_max\n",
    "\n",
    "\n",
    "print(getMax(10,20))\n",
    "print(getMax(30,40))\n",
    "\n",
    "\n"
   ]
  },
  {
   "cell_type": "code",
   "execution_count": 34,
   "id": "ffc351dd",
   "metadata": {},
   "outputs": [
    {
     "data": {
      "text/plain": [
       "200"
      ]
     },
     "execution_count": 34,
     "metadata": {},
     "output_type": "execute_result"
    }
   ],
   "source": [
    "## 함수의 선언부 = 호출부보다 먼저 기술되어야 한다.\n",
    "def getMax(a,b):\n",
    "    num_max = a\n",
    "    if num_max < b:\n",
    "        num_max = b\n",
    "    \n",
    "    return num_max\n",
    "\n",
    "\n",
    "# -- main\n",
    "x = 100\n",
    "y = 200\n",
    " \n",
    "## call\n",
    "getMax(x,y)\n",
    "#getMax(200,300)\n",
    "#getMax(0.9,0.45)"
   ]
  },
  {
   "cell_type": "code",
   "execution_count": null,
   "id": "81cbd887",
   "metadata": {},
   "outputs": [],
   "source": []
  },
  {
   "cell_type": "code",
   "execution_count": null,
   "id": "4de11a8c",
   "metadata": {},
   "outputs": [],
   "source": []
  },
  {
   "cell_type": "code",
   "execution_count": null,
   "id": "73278d94",
   "metadata": {},
   "outputs": [],
   "source": []
  },
  {
   "cell_type": "code",
   "execution_count": null,
   "id": "b9197c44",
   "metadata": {},
   "outputs": [],
   "source": []
  },
  {
   "cell_type": "code",
   "execution_count": null,
   "id": "50f8836a",
   "metadata": {},
   "outputs": [],
   "source": []
  }
 ],
 "metadata": {
  "kernelspec": {
   "display_name": "Python 3 (ipykernel)",
   "language": "python",
   "name": "python3"
  },
  "language_info": {
   "codemirror_mode": {
    "name": "ipython",
    "version": 3
   },
   "file_extension": ".py",
   "mimetype": "text/x-python",
   "name": "python",
   "nbconvert_exporter": "python",
   "pygments_lexer": "ipython3",
   "version": "3.10.9"
  }
 },
 "nbformat": 4,
 "nbformat_minor": 5
}
