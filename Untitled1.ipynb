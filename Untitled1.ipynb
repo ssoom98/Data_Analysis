{
 "cells": [
  {
   "cell_type": "code",
   "execution_count": 58,
   "id": "9b079e1f",
   "metadata": {},
   "outputs": [
    {
     "data": {
      "text/plain": [
       "1"
      ]
     },
     "execution_count": 58,
     "metadata": {},
     "output_type": "execute_result"
    }
   ],
   "source": [
    "n = 144\n",
    "def solution(n):\n",
    "    answer = n**(1/2)\n",
    "    if int(answer)**2==n: # int를 씌우는 이유 : 부동소수점 오차를 방지 소수점이 떨어짐\n",
    "        return 1\n",
    "    else:\n",
    "        return 2\n",
    "    return answer\n",
    "solution(n)\n",
    "# math.sqrt라는 함수를 사용하는게 정확도가 높음"
   ]
  },
  {
   "cell_type": "code",
   "execution_count": 39,
   "id": "a4d2aee6",
   "metadata": {},
   "outputs": [
    {
     "data": {
      "text/plain": [
       "[]"
      ]
     },
     "execution_count": 39,
     "metadata": {},
     "output_type": "execute_result"
    }
   ],
   "source": [
    "num_list[-1:0:1]"
   ]
  },
  {
   "cell_type": "code",
   "execution_count": 57,
   "id": "82e02648",
   "metadata": {},
   "outputs": [
    {
     "name": "stdout",
     "output_type": "stream",
     "text": [
      "3.1622776601683795\n",
      "3\n",
      "9\n"
     ]
    }
   ],
   "source": [
    "answer = 10 ** 0.5  # 약 3.162277...\n",
    "print(answer)\n",
    "print(int(answer))     # 정수 부분만 추출\n",
    "print(int(answer)**2)  # 9 != 10 → 제곱수 아님\n"
   ]
  },
  {
   "cell_type": "markdown",
   "id": "4eae7f49",
   "metadata": {},
   "source": [
    "정수가 담긴 리스트 num_list가 주어질 때, num_list의 원소 중 짝수와 홀수의 개수를 담은 배열을 return 하도록 solution 함수를 완성해보세요."
   ]
  },
  {
   "cell_type": "code",
   "execution_count": 79,
   "id": "80eed582",
   "metadata": {},
   "outputs": [],
   "source": [
    "num_list = [1,2,3,4,5]\n",
    "def solution(num_list):\n",
    "    answer = [0,1]\n",
    "    for n in num_list:\n",
    "        answer[n%2] +=1\n",
    "    return answer\n"
   ]
  }
 ],
 "metadata": {
  "kernelspec": {
   "display_name": "Python 3 (ipykernel)",
   "language": "python",
   "name": "python3"
  },
  "language_info": {
   "codemirror_mode": {
    "name": "ipython",
    "version": 3
   },
   "file_extension": ".py",
   "mimetype": "text/x-python",
   "name": "python",
   "nbconvert_exporter": "python",
   "pygments_lexer": "ipython3",
   "version": "3.10.9"
  }
 },
 "nbformat": 4,
 "nbformat_minor": 5
}
