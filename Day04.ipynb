{
 "cells": [
  {
   "cell_type": "code",
   "execution_count": 1,
   "id": "8ed3d4ae",
   "metadata": {},
   "outputs": [
    {
     "data": {
      "text/html": [
       "\n",
       "<style>\n",
       "div.container{width:99% !important;}\n",
       "div.cell.code_cell.rendered{width:90%;}\n",
       "div.cell.code_cell.unrendered{width:90%;}\n",
       "div.CodeMirror {font-family:Consolas; font-size:13pt;}\n",
       "div.output {font-size:13pt; font-weight:bold;}\n",
       "div.input {font-family:Consolas; font-size:13pt;}\n",
       "div.prompt {min-width:70px;}\n",
       "div#toc-wrapper{padding-top:120px;}\n",
       "span.toc-item-num{display:none;}\n",
       "div.text_cell_render ul li{font-size:18pt;padding:5px;}\n",
       "div.CodeMirror-lines > div {padding-left:10px;}\n",
       "</style>\n"
      ],
      "text/plain": [
       "<IPython.core.display.HTML object>"
      ]
     },
     "metadata": {},
     "output_type": "display_data"
    }
   ],
   "source": [
    "from IPython.display import display, HTML\n",
    "display(HTML(\"\"\"\n",
    "<style>\n",
    "div.container{width:99% !important;}\n",
    "div.cell.code_cell.rendered{width:90%;}\n",
    "div.cell.code_cell.unrendered{width:90%;}\n",
    "div.CodeMirror {font-family:Consolas; font-size:13pt;}\n",
    "div.output {font-size:13pt; font-weight:bold;}\n",
    "div.input {font-family:Consolas; font-size:13pt;}\n",
    "div.prompt {min-width:70px;}\n",
    "div#toc-wrapper{padding-top:120px;}\n",
    "span.toc-item-num{display:none;}\n",
    "div.text_cell_render ul li{font-size:18pt;padding:5px;}\n",
    "div.CodeMirror-lines > div {padding-left:10px;}\n",
    "</style>\n",
    "\"\"\"))"
   ]
  },
  {
   "cell_type": "code",
   "execution_count": 2,
   "id": "e8d946f8",
   "metadata": {},
   "outputs": [
    {
     "name": "stdout",
     "output_type": "stream",
     "text": [
      "result= 100\n"
     ]
    }
   ],
   "source": [
    "def getArea(length):\n",
    "    # print(\"length=\",length)\n",
    "    area=length*length # area는 지역변수\n",
    "    return area\n",
    "\n",
    "### ---main---\n",
    "# call by value \n",
    "# call by reference(원본을 건드릴수있음)\n",
    "x= 10\n",
    "result = getArea(x) # 호출부\n",
    "print(\"result=\",result)\n",
    "\n",
    "# print(\"area=\",area)\n"
   ]
  },
  {
   "cell_type": "code",
   "execution_count": 3,
   "id": "c18b2c41",
   "metadata": {},
   "outputs": [
    {
     "name": "stdout",
     "output_type": "stream",
     "text": [
      "result= [10, 100]\n",
      "res1 = 7\n",
      "res2 = 49\n"
     ]
    }
   ],
   "source": [
    "def getArea2(length): # length 매개변수 \n",
    "    # print(\"length=\",length)\n",
    "    area=length*length # area는 지역변수\n",
    "    res = [length,area]\n",
    "    return res\n",
    "\n",
    "### ---main---\n",
    "# call by value \n",
    "# call by reference(원본을 건드릴수있음)\n",
    "x= 10\n",
    "result = getArea2(x) # 호출부\n",
    "print(\"result=\",result)\n",
    "\n",
    "# print(\"area=\",area)\n",
    "\n",
    "def getArea3(length):\n",
    "    area = length*length\n",
    "    return length,area\n",
    "\n",
    "result2 = getArea3(7)\n",
    "result2[0] # 튜플은 list의 수정 불가하다. 접근은 가능하지만 연산이나 \n",
    "\n",
    "(res1, res2) = getArea3(7)\n",
    "print(\"res1 =\",res1)\n",
    "print(\"res2 =\",res2)"
   ]
  },
  {
   "cell_type": "code",
   "execution_count": 4,
   "id": "245fe178",
   "metadata": {},
   "outputs": [
    {
     "name": "stdout",
     "output_type": "stream",
     "text": [
      "korList =  [33, 74, 88]\n",
      "mathList =  [78, 25, 66]\n"
     ]
    }
   ],
   "source": [
    "# 명세서에 따라서 코드를 구조화 -> 모듈화-> 테스팅 (단위테스팅)-> 통합테스팅 = 효율적인 에러잡기 \n",
    "def getGrade(korList,mathList): # 매개변수\n",
    "    print(\"korList = \",korList)\n",
    "    print(\"mathList = \",mathList)\n",
    "    \n",
    "\n",
    "\n",
    "def getScore(): \n",
    "    pass\n",
    "\n",
    "# ----main \n",
    "\n",
    "getGrade(mathList=[78,25,66],korList=[33,74,88]) #인수 \n",
    "# 정의된 함수의 매개변수를 명시함으로써 남는 매개변수로 자동매칭 된다\n"
   ]
  },
  {
   "cell_type": "code",
   "execution_count": 5,
   "id": "e0fd703d",
   "metadata": {},
   "outputs": [
    {
     "name": "stdout",
     "output_type": "stream",
     "text": [
      "i =  10\n",
      "i =  20\n",
      "i =  30\n",
      "i =  40\n",
      "i =  50\n",
      "i =  60\n"
     ]
    },
    {
     "data": {
      "text/plain": [
       "210"
      ]
     },
     "execution_count": 5,
     "metadata": {},
     "output_type": "execute_result"
    }
   ],
   "source": [
    "def add(a,b):\n",
    "    return a+b\n",
    "\n",
    "# add(100,30)\n",
    "# add(10,20,30) # error\n",
    "\n",
    "def add1(*args): # *을 쓰는 이유는 주소를 받기 위해서 사용\n",
    "    result = 0\n",
    "    for i in args:\n",
    "        print(\"i = \" ,i)\n",
    "        result += i\n",
    "    return result\n",
    "add1(10,20,30,40,50,60)"
   ]
  },
  {
   "cell_type": "code",
   "execution_count": 6,
   "id": "d8e11b88",
   "metadata": {},
   "outputs": [
    {
     "data": {
      "text/plain": [
       "720"
      ]
     },
     "execution_count": 6,
     "metadata": {},
     "output_type": "execute_result"
    }
   ],
   "source": [
    "def add_mul(choice, *args):\n",
    "    if choice == \"add\":\n",
    "        result = 0\n",
    "        for i in args:\n",
    "            result += i\n",
    "            \n",
    "    elif choice == \"mul\":\n",
    "        result =1\n",
    "        for v in args :\n",
    "            result *= v\n",
    "            \n",
    "    return result\n",
    "\n",
    "add_mul(\"add\",1,2,3,4,5)\n",
    "add_mul(\"mul\",1,2,3,4,5,6,)\n",
    "\n"
   ]
  },
  {
   "cell_type": "markdown",
   "id": "0dba73b3",
   "metadata": {},
   "source": [
    "# lambda 함수\n",
    "## 함수_이름 = lambda 매개변수 1, 매개변수 2,.... : 매개변수를 이용한 표현식"
   ]
  },
  {
   "cell_type": "code",
   "execution_count": 7,
   "id": "d05bdc49",
   "metadata": {},
   "outputs": [
    {
     "data": {
      "text/plain": [
       "7"
      ]
     },
     "execution_count": 7,
     "metadata": {},
     "output_type": "execute_result"
    }
   ],
   "source": [
    "## def add(a,b):\n",
    "##   return a+b\n",
    "\n",
    "add2=lambda a,b : a+b\n",
    "add2(3,4)\n"
   ]
  },
  {
   "attachments": {},
   "cell_type": "markdown",
   "id": "1e2f3081",
   "metadata": {},
   "source": [
    "# 파일 처리 (I/O)\n",
    "![파일입출력](파일입출력.png)\n",
    "    "
   ]
  },
  {
   "cell_type": "code",
   "execution_count": 8,
   "id": "e3f1218c",
   "metadata": {},
   "outputs": [
    {
     "name": "stdout",
     "output_type": "stream",
     "text": [
      "hi hello\n"
     ]
    }
   ],
   "source": [
    "f = open('test.txt','r')\n",
    "print(f.read())\n",
    "# 파일 입출력을 원활하게 하기 위해 다쓰면 해제한다. - deadlock\n",
    "f.close()\n"
   ]
  },
  {
   "cell_type": "code",
   "execution_count": 21,
   "id": "b962138b",
   "metadata": {},
   "outputs": [
    {
     "name": "stdout",
     "output_type": "stream",
     "text": [
      "550\n"
     ]
    }
   ],
   "source": [
    "# 과제\n",
    "# 1. number.txt에 있는 숫자를 모두 더해서 총합을 구하는 프로그램을 작성하시오\n",
    "def number_sum(filename):\n",
    "    result = 0\n",
    "    f = open(filename,'r')\n",
    "    for i in f:\n",
    "        #print(int(i))\n",
    "        result += int(i)\n",
    "    print(result)\n",
    "    \n",
    "number_sum('number.txt')"
   ]
  },
  {
   "cell_type": "code",
   "execution_count": 27,
   "id": "8034522f",
   "metadata": {},
   "outputs": [
    {
     "data": {
      "text/plain": [
       "15"
      ]
     },
     "execution_count": 27,
     "metadata": {},
     "output_type": "execute_result"
    }
   ],
   "source": [
    "# 2번 파일에서 특정 알파벳의 갯수를 세는 프로그램을 파이썬을 이용해 작성하시오.\n",
    "# a의 갯수는?\n",
    "def find_a(filename,word):\n",
    "    f = open(filename,'r')\n",
    "    text = f.read()\n",
    "    return text.count(word)\n",
    "    \n",
    "find_a('sample.txt','a')\n"
   ]
  },
  {
   "cell_type": "code",
   "execution_count": 25,
   "id": "9bfda3ce",
   "metadata": {},
   "outputs": [
    {
     "name": "stdout",
     "output_type": "stream",
     "text": [
      "['Alice,23', 'Charlie,30']\n"
     ]
    }
   ],
   "source": [
    "# 3번 주어진 필터링 조건에 맞는 정보만 반환하는 함수를 작성하시오.\n",
    "# 필터링 조건 : 20세 이상인 사람\n",
    "def filter_adults(filename):\n",
    "    adults = []\n",
    "    f = open(filename,'r')\n",
    "    for i in f:\n",
    "        name, age = i.strip().split(',')\n",
    "        if int(age)>= 20:\n",
    "            adults.append(name+','+age)\n",
    "    print(adults)    \n",
    "    \n",
    "filter_adults('data.txt')"
   ]
  },
  {
   "cell_type": "code",
   "execution_count": null,
   "id": "ca760829",
   "metadata": {},
   "outputs": [],
   "source": []
  }
 ],
 "metadata": {
  "kernelspec": {
   "display_name": "Python 3 (ipykernel)",
   "language": "python",
   "name": "python3"
  },
  "language_info": {
   "codemirror_mode": {
    "name": "ipython",
    "version": 3
   },
   "file_extension": ".py",
   "mimetype": "text/x-python",
   "name": "python",
   "nbconvert_exporter": "python",
   "pygments_lexer": "ipython3",
   "version": "3.10.9"
  }
 },
 "nbformat": 4,
 "nbformat_minor": 5
}
